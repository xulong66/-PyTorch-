{
 "cells": [
  {
   "cell_type": "markdown",
   "metadata": {},
   "source": [
    "### 7.1消砖块游戏“Breakout”的描述\n",
    "正式名称是Atari Breakout，和CartPole一样，可以在Gym运行，游戏需要玩家左右移动屏幕下部的球拍，打破屏幕上部的方块，并使球不会落到屏幕下方,如下图所示![breakout](./image/breakout.jpg)\n",
    "\n",
    "启动anaconda prompt安装环境\n",
    "```shell\n",
    "pip install atari_py\n",
    "pip install opencv-python\n",
    "\n",
    "```"
   ]
  },
  {
   "cell_type": "code",
   "execution_count": 9,
   "metadata": {},
   "outputs": [],
   "source": [
    "import numpy as np\n",
    "import pylab as plt\n",
    "import gym"
   ]
  },
  {
   "cell_type": "code",
   "execution_count": 10,
   "metadata": {},
   "outputs": [
    {
     "name": "stdout",
     "output_type": "stream",
     "text": [
      "env.observation_space:Box(0, 255, (210, 160, 3), uint8)\n",
      "env.action_space:Discrete(4)\n"
     ]
    },
    {
     "name": "stderr",
     "output_type": "stream",
     "text": [
      "d:\\Anaconda3\\Lib\\site-packages\\gym\\envs\\registration.py:555: UserWarning: \u001b[33mWARN: The environment Breakout-v0 is out of date. You should consider upgrading to version `v4`.\u001b[0m\n",
      "  logger.warn(\n"
     ]
    }
   ],
   "source": [
    "ENV = 'Breakout-v0'\n",
    "env = gym.make(ENV,render_mode='human')\n",
    "\n",
    "print(f'env.observation_space:{env.observation_space}')\n",
    "print(f'env.action_space:{env.action_space}')"
   ]
  },
  {
   "cell_type": "markdown",
   "metadata": {},
   "source": [
    "该任务的状态是210像素高和160像素宽的RGB信息。CartPole的实现使用了诸如小车的位置和速度之类的信息作为其状态，而不是图像信息。Breakout中没有这样的物理信息，它将图像本身用作状态。因此，状态的维度非常高，状态有210×160×3=100800个，大约有100000维。在CartPole任务中状态是4维，因此很显然两者是不同的。\n",
    "\n",
    "该任务的动作有4种。NOOP是No-Operation的缩写，意思是什么也不做。FIRE意味着发射球。RIGHT和LEFT分别是将屏幕下方的横杆向右和向左移动。"
   ]
  },
  {
   "cell_type": "code",
   "execution_count": 13,
   "metadata": {},
   "outputs": [
    {
     "data": {
      "text/plain": [
       "<matplotlib.image.AxesImage at 0x22dc59fa290>"
      ]
     },
     "execution_count": 13,
     "metadata": {},
     "output_type": "execute_result"
    },
    {
     "data": {
      "image/png": "[encoded data removed]",
      "text/plain": [
       "<Figure size 640x480 with 1 Axes>"
      ]
     },
     "metadata": {},
     "output_type": "display_data"
    }
   ],
   "source": [
    "#尝试绘制初始状态\n",
    "observation = env.reset() #环境初始化\n",
    "plt.imshow(observation[0])  #显示画面"
   ]
  }
 ],
 "metadata": {
  "kernelspec": {
   "display_name": "base",
   "language": "python",
   "name": "python3"
  },
  "language_info": {
   "codemirror_mode": {
    "name": "ipython",
    "version": 3
   },
   "file_extension": ".py",
   "mimetype": "text/x-python",
   "name": "python",
   "nbconvert_exporter": "python",
   "pygments_lexer": "ipython3",
   "version": "3.11.5"
  }
 },
 "nbformat": 4,
 "nbformat_minor": 2
}
